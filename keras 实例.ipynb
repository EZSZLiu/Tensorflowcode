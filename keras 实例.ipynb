{
 "cells": [
  {
   "cell_type": "code",
   "execution_count": 2,
   "metadata": {},
   "outputs": [
    {
     "data": {
      "image/png": "[encoded data removed]",
      "text/plain": [
       "<Figure size 432x288 with 1 Axes>"
      ]
     },
     "metadata": {},
     "output_type": "display_data"
    },
    {
     "name": "stdout",
     "output_type": "stream",
     "text": [
      "3\n"
     ]
    }
   ],
   "source": [
    "#利用识别图片\n",
    "from keras.datasets import mnist\n",
    "import matplotlib.pyplot as plt\n",
    "(x_train,y_train),(x_test,y_test)=mnist.load_data()\n",
    "plt.imshow(x_train[1,:,:])\n",
    "plt.show()\n",
    "print(x_train.ndim)"
   ]
  },
  {
   "cell_type": "code",
   "execution_count": 2,
   "metadata": {},
   "outputs": [],
   "source": [
    "#张量转换为向量，第一维样本，第二维向量\n",
    "import numpy as np\n",
    "x_train=x_train.reshape(60000,28*28)\n",
    "x_test=x_test.reshape(10000,28*28)\n"
   ]
  },
  {
   "cell_type": "code",
   "execution_count": 3,
   "metadata": {},
   "outputs": [],
   "source": [
    "x_train=x_train/255\n",
    "x_test=x_test/255\n",
    "x_train=x_train.astype('float32')\n",
    "x_test=x_test.astype('float32')\n"
   ]
  },
  {
   "cell_type": "code",
   "execution_count": 4,
   "metadata": {},
   "outputs": [
    {
     "data": {
      "text/plain": [
       "array([[0., 0., 0., ..., 0., 0., 0.],\n",
       "       [1., 0., 0., ..., 0., 0., 0.],\n",
       "       [0., 0., 0., ..., 0., 0., 0.],\n",
       "       ...,\n",
       "       [0., 0., 0., ..., 0., 0., 0.],\n",
       "       [0., 0., 0., ..., 0., 0., 0.],\n",
       "       [0., 0., 0., ..., 0., 1., 0.]], dtype=float32)"
      ]
     },
     "execution_count": 4,
     "metadata": {},
     "output_type": "execute_result"
    }
   ],
   "source": [
    "#输出label转换为 one of key encoding\n",
    "import keras\n",
    "y_train=keras.utils.to_categorical(y_train,10)\n",
    "y_test=keras.utils.to_categorical(y_test,10)\n",
    "y_train"
   ]
  },
  {
   "cell_type": "code",
   "execution_count": 5,
   "metadata": {},
   "outputs": [
    {
     "name": "stdout",
     "output_type": "stream",
     "text": [
      "WARNING:tensorflow:From C:\\Users\\liuenze\\AppData\\Roaming\\Python\\Python36\\site-packages\\tensorflow\\python\\framework\\op_def_library.py:263: colocate_with (from tensorflow.python.framework.ops) is deprecated and will be removed in a future version.\n",
      "Instructions for updating:\n",
      "Colocations handled automatically by placer.\n",
      "WARNING:tensorflow:From C:\\Users\\liuenze\\AppData\\Roaming\\Python\\Python36\\site-packages\\tensorflow\\python\\ops\\math_ops.py:3066: to_int32 (from tensorflow.python.ops.math_ops) is deprecated and will be removed in a future version.\n",
      "Instructions for updating:\n",
      "Use tf.cast instead.\n",
      "Train on 60000 samples, validate on 10000 samples\n",
      "Epoch 1/10\n",
      "60000/60000 [==============================] - 9s 143us/step - loss: 0.4002 - acc: 0.8923 - val_loss: 0.2672 - val_acc: 0.9235\n",
      "Epoch 2/10\n",
      "60000/60000 [==============================] - 6s 94us/step - loss: 0.2535 - acc: 0.9266 - val_loss: 0.2319 - val_acc: 0.9317\n",
      "Epoch 3/10\n",
      "60000/60000 [==============================] - 5s 86us/step - loss: 0.2229 - acc: 0.9351 - val_loss: 0.2097 - val_acc: 0.9385\n",
      "Epoch 4/10\n",
      "60000/60000 [==============================] - 6s 103us/step - loss: 0.2030 - acc: 0.9410 - val_loss: 0.1951 - val_acc: 0.9425\n",
      "Epoch 5/10\n",
      "60000/60000 [==============================] - 5s 83us/step - loss: 0.1880 - acc: 0.9451 - val_loss: 0.1829 - val_acc: 0.9465\n",
      "Epoch 6/10\n",
      "60000/60000 [==============================] - 5s 82us/step - loss: 0.1761 - acc: 0.9489 - val_loss: 0.1733 - val_acc: 0.9503\n",
      "Epoch 7/10\n",
      "60000/60000 [==============================] - 5s 80us/step - loss: 0.1659 - acc: 0.9518 - val_loss: 0.1647 - val_acc: 0.9516\n",
      "Epoch 8/10\n",
      "60000/60000 [==============================] - 5s 81us/step - loss: 0.1573 - acc: 0.9540 - val_loss: 0.1568 - val_acc: 0.9539\n",
      "Epoch 9/10\n",
      "60000/60000 [==============================] - 5s 82us/step - loss: 0.1499 - acc: 0.9565 - val_loss: 0.1525 - val_acc: 0.9561\n",
      "Epoch 10/10\n",
      "60000/60000 [==============================] - 5s 82us/step - loss: 0.1437 - acc: 0.9584 - val_loss: 0.1470 - val_acc: 0.9580\n",
      "test loss： 0.1469715955697\n",
      "Accuracy： 0.958\n"
     ]
    }
   ],
   "source": [
    "#建立深度学习网络\n",
    "from keras.models import Sequential\n",
    "from keras.layers import Dense\n",
    "from keras.optimizers import SGD,Adagrad\n",
    "model=Sequential()  #初始化神经网络\n",
    "#输入层信息\n",
    "#Dense（相连隐层的个数，激活函数，输入维度）全连接层 \n",
    "model.add(Dense(100,activation='sigmoid',input_shape=(784,)))  \n",
    "#minibatch  随机梯度下降每次输入的样本个数   batch_size=**\n",
    "#隐层信息\n",
    "model.add(Dense(50,activation='relu'))\n",
    "#第二个隐含层\n",
    "model.add(Dense(10,activation='softmax'))\n",
    "#设置loss function, 优化算法，评价标准\n",
    "model.compile(loss='categorical_crossentropy',optimizer=Adagrad(),metrics=['accuracy'])\n",
    "#训练模型 epochs所需要大循环的次数\n",
    "model.fit(x_train,y_train,batch_size=50,epochs=10,validation_data=(x_test,y_test),verbose=1)\n",
    "#模型准确率 verbose是否显示中间过程\n",
    "score=model.evaluate(x_test,y_test,verbose=0)\n",
    "print('test loss：',score[0])\n",
    "print('Accuracy：',score[1])"
   ]
  },
  {
   "cell_type": "code",
   "execution_count": null,
   "metadata": {},
   "outputs": [],
   "source": []
  }
 ],
 "metadata": {
  "kernelspec": {
   "display_name": "Python 3",
   "language": "python",
   "name": "python3"
  },
  "language_info": {
   "codemirror_mode": {
    "name": "ipython",
    "version": 3
   },
   "file_extension": ".py",
   "mimetype": "text/x-python",
   "name": "python",
   "nbconvert_exporter": "python",
   "pygments_lexer": "ipython3",
   "version": "3.6.5"
  }
 },
 "nbformat": 4,
 "nbformat_minor": 2
}
