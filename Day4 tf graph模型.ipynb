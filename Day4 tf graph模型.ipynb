{
 "cells": [
  {
   "cell_type": "code",
   "execution_count": 1,
   "metadata": {},
   "outputs": [
    {
     "name": "stdout",
     "output_type": "stream",
     "text": [
      "Tensor(\"MatMul:0\", shape=(3, 3), dtype=int32)\n"
     ]
    }
   ],
   "source": [
    "import tensorflow as tf\n",
    "a=tf.constant([[1,2],[3,4],[5,6]])\n",
    "b=tf.constant([1,2,3,4,5,6],shape=[2,3])\n",
    "product=tf.matmul(a,b)\n",
    "print(product)\n"
   ]
  },
  {
   "cell_type": "code",
   "execution_count": 2,
   "metadata": {},
   "outputs": [
    {
     "name": "stdout",
     "output_type": "stream",
     "text": [
      "[[ 9 12 15]\n",
      " [19 26 33]\n",
      " [29 40 51]]\n",
      "<class 'numpy.ndarray'>\n",
      "<class 'tensorflow.python.framework.ops.Tensor'>\n"
     ]
    }
   ],
   "source": [
    "sess=tf.Session()\n",
    "result=sess.run(product)\n",
    "print(result)\n",
    "sess.close()\n",
    "print(type(result))\n",
    "print(type(a))"
   ]
  },
  {
   "cell_type": "code",
   "execution_count": 30,
   "metadata": {},
   "outputs": [
    {
     "name": "stdout",
     "output_type": "stream",
     "text": [
      "[[ 9 12 15]\n",
      " [19 26 33]\n",
      " [29 40 51]]\n",
      "<class 'numpy.ndarray'>\n"
     ]
    }
   ],
   "source": [
    "# 不需要sess.close()\n",
    "#两次shilft+Tab显示函数详细内容\n",
    "with tf.Session() as sess:\n",
    "    result=sess.run(product)\n",
    "    print(result)\n",
    "    "
   ]
  },
  {
   "cell_type": "code",
   "execution_count": 9,
   "metadata": {},
   "outputs": [
    {
     "name": "stdout",
     "output_type": "stream",
     "text": [
      "[[[ 1  2  3]\n",
      "  [ 4  5  6]]\n",
      "\n",
      " [[ 7  8  9]\n",
      "  [10 11 12]]]\n",
      "<class 'tensorflow.python.framework.ops.Tensor'>\n"
     ]
    }
   ],
   "source": [
    "#shape中第一位为维度\n",
    "import numpy as np\n",
    "c=tf.constant(np.arange(1, 13, dtype=np.int32),shape=[2, 2, 3])\n",
    "with tf.Session() as sess:\n",
    "    print(c.eval())\n",
    "    print(type(c))\n",
    "#查看具体值"
   ]
  },
  {
   "cell_type": "code",
   "execution_count": 33,
   "metadata": {},
   "outputs": [
    {
     "name": "stdout",
     "output_type": "stream",
     "text": [
      "[-1. -1.]\n",
      "[3. 5.]\n",
      "<class 'tensorflow.python.ops.variables.RefVariable'>\n"
     ]
    }
   ],
   "source": [
    "#对于变量初始化\n",
    "x=tf.Variable([1,2],dtype=np.float32)\n",
    "y=tf.constant([2,3],dtype=np.float32)\n",
    "sub=tf.subtract(x,y)\n",
    "add=tf.add(x,y)\n",
    "#\n",
    "ini=tf.global_variables_initializer()\n",
    "with tf.Session() as sess:\n",
    "    sess.run(ini)\n",
    "    print(sess.run(sub))\n",
    "    print(sess.run(add))\n",
    "    print(type(x))"
   ]
  },
  {
   "cell_type": "code",
   "execution_count": 2,
   "metadata": {},
   "outputs": [
    {
     "name": "stdout",
     "output_type": "stream",
     "text": [
      "[[ 0.35776946  1.8351156   1.2468109 ]\n",
      " [ 1.9221691   1.4659487   0.70206773]\n",
      " [-0.07245645  0.88087666  0.59576523]\n",
      " [-1.1073397   0.8116849  -1.2475715 ]]\n",
      "2\n",
      "[[1. 1. 1.]\n",
      " [1. 1. 1.]\n",
      " [1. 1. 1.]\n",
      " [1. 1. 1.]]\n"
     ]
    }
   ],
   "source": [
    "#tf.Variable 使用\n",
    "import tensorflow as tf\n",
    "v1=tf.Variable(tf.random_normal(shape=[4,3],mean=0,stddev=1),name='v1')\n",
    "v2=tf.Variable(tf.constant(2),name='v2')\n",
    "v3=tf.Variable(tf.ones([4,3]),name='v3')\n",
    "with tf.Session() as sess:\n",
    "    sess.run(tf.global_variables_initializer())\n",
    "    print(sess.run(v1))\n",
    "    print(sess.run(v2))\n",
    "    print(sess.run(v3))\n"
   ]
  },
  {
   "cell_type": "code",
   "execution_count": 37,
   "metadata": {},
   "outputs": [
    {
     "name": "stdout",
     "output_type": "stream",
     "text": [
      "0\n",
      "1\n",
      "2\n",
      "3\n",
      "4\n",
      "5\n",
      "<class 'tensorflow.python.ops.variables.RefVariable'>\n"
     ]
    }
   ],
   "source": [
    "state=tf.Variable(0,name='as_you_like')\n",
    "#创建一个op，使state加1\n",
    "new_value=tf.add(state,1)\n",
    "#赋值op\n",
    "update=tf.assign(state,new_value)\n",
    "#变量初始化\n",
    "init=tf.global_variables_initializer()\n",
    "with tf.Session() as sess:\n",
    "    sess.run(init)\n",
    "    print(sess.run(state))\n",
    "    for i in range(5):\n",
    "        sess.run(update)\n",
    "        print(state.eval())\n",
    "    print(type(state))"
   ]
  },
  {
   "cell_type": "code",
   "execution_count": 36,
   "metadata": {},
   "outputs": [
    {
     "name": "stdout",
     "output_type": "stream",
     "text": [
      "[[ 1  4  9]\n",
      " [16 25 36]]\n",
      "[[22 28]\n",
      " [49 64]]\n",
      "<class 'tensorflow.python.framework.ops.Tensor'>\n",
      "<class 'tensorflow.python.framework.ops.Tensor'> \n",
      " <class 'numpy.ndarray'>\n"
     ]
    }
   ],
   "source": [
    "input1=tf.constant(np.arange(1,7, dtype=np.int32),shape=[2, 3])\n",
    "input2=tf.constant(np.arange(1,7, dtype=np.int32),shape=[2, 3])\n",
    "input3=tf.constant(np.arange(1,7, dtype=np.int32),shape=[3, 2])\n",
    "with tf.Session() as sess:\n",
    "    mul=tf.multiply(input1,input2)\n",
    "    mat=tf.matmul(input2,input3)\n",
    "    result1=sess.run(mul)\n",
    "    result2=sess.run(mat)\n",
    "    print(result1)\n",
    "    print(result2)\n",
    "    print(type(input1))\n",
    "    print(type(mul),'\\n',type(result1))"
   ]
  },
  {
   "cell_type": "code",
   "execution_count": 41,
   "metadata": {},
   "outputs": [
    {
     "name": "stdout",
     "output_type": "stream",
     "text": [
      "8.0\n",
      "<class 'numpy.float32'>\n"
     ]
    }
   ],
   "source": [
    "#fetch 同时执行多个opreation\n",
    "input1=tf.constant(1.0)\n",
    "input2=tf.constant(3.0)\n",
    "input3=tf.constant(5.0)\n",
    "add=tf.add(input3,input2)\n",
    "mul=tf.multiply(input1,add)\n",
    "with tf.Session() as sess:\n",
    "    result=sess.run(mul)\n",
    "    print(result)\n",
    "    print(type(result))"
   ]
  },
  {
   "cell_type": "code",
   "execution_count": 7,
   "metadata": {},
   "outputs": [
    {
     "name": "stdout",
     "output_type": "stream",
     "text": [
      "[2.]\n"
     ]
    }
   ],
   "source": [
    "#feed 将数据以字典形式传入\n",
    "input1=tf.placeholder(tf.float32)\n",
    "input2=tf.placeholder(tf.float32)\n",
    "output=tf.multiply(input1,input2)\n",
    "with tf.Session() as sess:\n",
    "    print(sess.run(output,feed_dict={input1:[1.],input2:[2.]}))"
   ]
  },
  {
   "cell_type": "code",
   "execution_count": 15,
   "metadata": {},
   "outputs": [
    {
     "name": "stdout",
     "output_type": "stream",
     "text": [
      "0 [0.16161618, 0.31044093]\n",
      "20 [0.55316633, 1.2551911]\n",
      "40 [0.48048717, 1.297798]\n",
      "60 [0.42193308, 1.3295784]\n",
      "80 [0.3756004, 1.3547187]\n",
      "100 [0.33894047, 1.3746105]\n",
      "120 [0.30993396, 1.3903495]\n",
      "140 [0.2869832, 1.4028027]\n",
      "160 [0.2688238, 1.412656]\n",
      "180 [0.25445554, 1.4204522]\n",
      "200 [0.24308692, 1.426621]\n",
      "220 [0.23409165, 1.4315017]\n",
      "240 [0.2269744, 1.4353635]\n",
      "260 [0.22134301, 1.4384192]\n",
      "280 [0.2168872, 1.440837]\n"
     ]
    }
   ],
   "source": [
    "#一个例子\n",
    "x_data=np.random.rand(100)\n",
    "y_data=x_data*0.2+1.45\n",
    "#构造线性模型\n",
    "k=tf.Variable(0.0)\n",
    "b=tf.Variable(0.0)\n",
    "y=k*x_data+b\n",
    "#二次代价函数\n",
    "loss=tf.reduce_mean(tf.square(y_data-y))\n",
    "#梯度下降优化器 参数为学习率\n",
    "optimizer=tf.train.GradientDescentOptimizer(0.1)\n",
    "train=optimizer.minimize(loss)\n",
    "#初始化变量\n",
    "init=tf.global_variables_initializer()\n",
    "with tf.Session() as sess:\n",
    "    sess.run(init)\n",
    "    for _ in range(300):\n",
    "        sess.run(train)\n",
    "        if _%20==0:\n",
    "            print(_,sess.run([k,b]))\n",
    "        \n"
   ]
  },
  {
   "cell_type": "code",
   "execution_count": null,
   "metadata": {},
   "outputs": [],
   "source": []
  }
 ],
 "metadata": {
  "kernelspec": {
   "display_name": "Python 3",
   "language": "python",
   "name": "python3"
  },
  "language_info": {
   "codemirror_mode": {
    "name": "ipython",
    "version": 3
   },
   "file_extension": ".py",
   "mimetype": "text/x-python",
   "name": "python",
   "nbconvert_exporter": "python",
   "pygments_lexer": "ipython3",
   "version": "3.6.5"
  }
 },
 "nbformat": 4,
 "nbformat_minor": 2
}
