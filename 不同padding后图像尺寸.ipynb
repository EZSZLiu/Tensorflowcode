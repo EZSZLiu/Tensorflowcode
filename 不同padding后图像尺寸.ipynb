{
 "cells": [
  {
   "cell_type": "code",
   "execution_count": 7,
   "metadata": {},
   "outputs": [
    {
     "name": "stdout",
     "output_type": "stream",
     "text": [
      "(1, 500, 500, 16)\n",
      "(1, 500, 500, 16)\n",
      "(1, 500, 500, 16)\n",
      "(1, 500, 500, 16)\n",
      "(1, 250, 250, 16)\n",
      "(1, 167, 167, 16)\n",
      "(1, 498, 498, 16)\n",
      "(1, 496, 496, 16)\n",
      "(1, 247, 247, 16)\n",
      "(1, 164, 164, 3)\n",
      "(1, 167, 167, 3)\n"
     ]
    }
   ],
   "source": [
    "import tensorflow as tf\n",
    "import numpy as np \n",
    "\"\"\"\n",
    "Created on Tue Jul 17 10:03:21 2018\n",
    "@author: C.H.\n",
    "\"\"\"\n",
    "tf.reset_default_graph()#这一句话非常重要，如果没有这句话，就会出现重复定义变量的错误\n",
    "x = tf.placeholder(tf.float32, shape=(1, 500, 500, 3))\n",
    "#分别设置3*3,5*5,7*7三种大小的卷积核\n",
    "weights1 = tf.get_variable('weights1',shape=[3, 3, 3, 16],dtype=tf.float32,initializer=tf.truncated_normal_initializer(stddev=0.1, dtype=tf.float32))\n",
    "weights2 = tf.get_variable('weights2',shape=[5, 5, 3, 16],dtype=tf.float32,initializer=tf.truncated_normal_initializer(stddev=0.1, dtype=tf.float32))\n",
    "weights3 = tf.get_variable('weights3',shape=[7, 7, 3, 16],dtype=tf.float32,initializer=tf.truncated_normal_initializer(stddev=0.1, dtype=tf.float32))\n",
    "#第一组实验采用步长为1，填充采用SAME，然后采用三种不同大小的卷积核来进行实验，讨论卷积核对卷积后图像大小的影响。第一组实验为其他实验的对照组\n",
    "conv1 = tf.nn.conv2d(x, weights1, strides=[1, 1, 1, 1], padding='SAME')\n",
    "conv2 = tf.nn.conv2d(x, weights2, strides=[1, 1, 1, 1], padding='SAME')\n",
    "conv3 = tf.nn.conv2d(x, weights3, strides=[1, 1, 1, 1], padding='SAME')\n",
    "#第二组实验，控制卷积核的大小为3*3，分别采用1,2,3三种步长，padding方式采用SAME，讨论步长对卷积后图像大小的影响。\n",
    "conv4 = tf.nn.conv2d(x, weights1, strides=[1, 1, 1, 1], padding='SAME')\n",
    "conv5 = tf.nn.conv2d(x, weights1, strides=[1, 2, 2, 1], padding='SAME')\n",
    "conv6 = tf.nn.conv2d(x, weights1, strides=[1, 3, 3, 1], padding='SAME')\n",
    "#第三组实验，与第一组实验对照，选择和第一组实验相同的卷积核大小和步长，采用padding的填充方式进行测试。讨论不同padding方式对卷积后图像的影响\n",
    "conv7 = tf.nn.conv2d(x, weights1, strides=[1, 1, 1, 1], padding='VALID')\n",
    "conv8 = tf.nn.conv2d(x, weights2, strides=[1, 1, 1, 1], padding='VALID')\n",
    "conv9 = tf.nn.conv2d(x, weights3, strides=[1, 2, 2, 1], padding='VALID')\n",
    "#池化过程的'VALID'，'SAME'参数的对照。讨论不同参数设置对最大池化过程后图像大小的影响\n",
    "pool1 = tf.nn.max_pool(x, [1, 10, 10, 1], [1, 3, 3, 1], padding = 'VALID')\n",
    "pool2 = tf.nn.max_pool(x, [1, 5, 5, 1], [1, 3, 3, 1], padding = 'SAME')\n",
    " \n",
    "with tf.Session() as sess: \n",
    "    a =  np.full((1, 500, 500, 3), 2)\n",
    "    sess.run(tf.global_variables_initializer())\n",
    "    conv1= sess.run(conv1,feed_dict={x: a})\n",
    "    conv2= sess.run(conv2,feed_dict={x: a})\n",
    "    conv3= sess.run(conv3,feed_dict={x: a})\n",
    "    conv4= sess.run(conv4,feed_dict={x: a})\n",
    "    conv5= sess.run(conv5,feed_dict={x: a})\n",
    "    conv6= sess.run(conv6,feed_dict={x: a})\n",
    "    conv7= sess.run(conv7,feed_dict={x: a})\n",
    "    conv8= sess.run(conv8,feed_dict={x: a})\n",
    "    conv9= sess.run(conv9,feed_dict={x: a})\n",
    "    pool1= sess.run(pool1,feed_dict={x: a})\n",
    "    pool2= sess.run(pool2,feed_dict={x: a})\n",
    "    print(conv1.shape)\n",
    "    print(conv2.shape)  \n",
    "    print(conv3.shape)  \n",
    "    print(conv4.shape)  \n",
    "    print(conv5.shape)  \n",
    "    print(conv6.shape)  \n",
    "    print(conv7.shape)  \n",
    "    print(conv8.shape)  \n",
    "    print(conv9.shape)  \n",
    "    print(pool1.shape)  \n",
    "    print(pool2.shape) \n"
   ]
  },
  {
   "cell_type": "code",
   "execution_count": null,
   "metadata": {},
   "outputs": [],
   "source": []
  }
 ],
 "metadata": {
  "kernelspec": {
   "display_name": "Python 3",
   "language": "python",
   "name": "python3"
  },
  "language_info": {
   "codemirror_mode": {
    "name": "ipython",
    "version": 3
   },
   "file_extension": ".py",
   "mimetype": "text/x-python",
   "name": "python",
   "nbconvert_exporter": "python",
   "pygments_lexer": "ipython3",
   "version": "3.6.5"
  }
 },
 "nbformat": 4,
 "nbformat_minor": 2
}
